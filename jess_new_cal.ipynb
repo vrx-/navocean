{
 "cells": [
  {
   "cell_type": "code",
   "execution_count": 1,
   "id": "c1da2fd0",
   "metadata": {},
   "outputs": [],
   "source": [
    "import pandas as pd\n",
    "import matplotlib.pyplot as plt\n",
    "import seaborn as sns\n",
    "from sklearn import linear_model\n",
    "import numpy as np"
   ]
  },
  {
   "cell_type": "code",
   "execution_count": 2,
   "id": "f2977ee5",
   "metadata": {},
   "outputs": [],
   "source": [
    "import glob"
   ]
  },
  {
   "cell_type": "code",
   "execution_count": 3,
   "id": "8c9cb1a3",
   "metadata": {},
   "outputs": [
    {
     "data": {
      "text/plain": [
       "['/Users/hboi/Desktop/cal/fl_cdom_250ppb',\n",
       " '/Users/hboi/Desktop/cal/fl_cdom_50ppb',\n",
       " '/Users/hboi/Desktop/cal/fl_cdom_350ppb',\n",
       " '/Users/hboi/Desktop/cal/fl_cdom_20ppb',\n",
       " '/Users/hboi/Desktop/cal/fl_cdom_50ppb_b',\n",
       " '/Users/hboi/Desktop/cal/fl_cdom_250ppb_b',\n",
       " '/Users/hboi/Desktop/cal/fl_cdom_100ppb',\n",
       " '/Users/hboi/Desktop/cal/fl_cdom_dark']"
      ]
     },
     "execution_count": 3,
     "metadata": {},
     "output_type": "execute_result"
    }
   ],
   "source": [
    "files = glob.glob('/Users/hboi/Desktop/cal/*')\n",
    "files"
   ]
  },
  {
   "cell_type": "code",
   "execution_count": 30,
   "id": "cfd727eb",
   "metadata": {},
   "outputs": [],
   "source": [
    "files2 = ['/Users/hboi/Desktop/cal/fl_cdom_250ppb',\n",
    " '/Users/hboi/Desktop/cal/fl_cdom_50ppb',\n",
    "#  '/Users/hboi/Desktop/cal/fl_cdom_350ppb',\n",
    " '/Users/hboi/Desktop/cal/fl_cdom_20ppb',\n",
    " '/Users/hboi/Desktop/cal/fl_cdom_50ppb_b',\n",
    " '/Users/hboi/Desktop/cal/fl_cdom_250ppb_b',\n",
    " '/Users/hboi/Desktop/cal/fl_cdom_100ppb',\n",
    " '/Users/hboi/Desktop/cal/fl_cdom_dark']"
   ]
  },
  {
   "cell_type": "code",
   "execution_count": 10,
   "id": "dfe9aa3d",
   "metadata": {},
   "outputs": [],
   "source": [
    "df = pd.read_csv(files[0], sep='\\t', header=None)"
   ]
  },
  {
   "cell_type": "code",
   "execution_count": 31,
   "id": "2569b92e",
   "metadata": {},
   "outputs": [
    {
     "name": "stdout",
     "output_type": "stream",
     "text": [
      "/Users/hboi/Desktop/cal/fl_cdom_250ppb\n",
      "/Users/hboi/Desktop/cal/fl_cdom_50ppb\n",
      "/Users/hboi/Desktop/cal/fl_cdom_20ppb\n",
      "/Users/hboi/Desktop/cal/fl_cdom_50ppb_b\n",
      "/Users/hboi/Desktop/cal/fl_cdom_250ppb_b\n",
      "/Users/hboi/Desktop/cal/fl_cdom_100ppb\n",
      "/Users/hboi/Desktop/cal/fl_cdom_dark\n"
     ]
    }
   ],
   "source": [
    "frames = {}\n",
    "\n",
    "for f in files2:\n",
    "    print(f)\n",
    "    df = pd.read_csv(f, sep='\\t', header=None)\n",
    "    frames[f[32:]]= df[7]"
   ]
  },
  {
   "cell_type": "code",
   "execution_count": 34,
   "id": "aa5bb697",
   "metadata": {},
   "outputs": [
    {
     "data": {
      "text/plain": [
       "dict_keys(['250ppb', '50ppb', '20ppb', '50ppb_b', '250ppb_b', '100ppb', 'dark'])"
      ]
     },
     "execution_count": 34,
     "metadata": {},
     "output_type": "execute_result"
    }
   ],
   "source": [
    "frames.keys()"
   ]
  },
  {
   "cell_type": "code",
   "execution_count": 37,
   "id": "030759ce",
   "metadata": {},
   "outputs": [],
   "source": [
    "cal_vals = [250, 50, 20, 50, 250, 100, 0]"
   ]
  },
  {
   "cell_type": "code",
   "execution_count": 41,
   "id": "a0fbc50d",
   "metadata": {},
   "outputs": [
    {
     "data": {
      "image/png": "[encoded data removed]",
      "text/plain": [
       "<Figure size 720x720 with 1 Axes>"
      ]
     },
     "metadata": {
      "needs_background": "light"
     },
     "output_type": "display_data"
    }
   ],
   "source": [
    "fig, ax = plt.subplots(figsize=(10,10))\n",
    "for var,cal in zip(frames, cal_vals):\n",
    "    ax.plot(cal*np.ones(len(frames[var])), frames[var])"
   ]
  },
  {
   "cell_type": "code",
   "execution_count": 40,
   "id": "2a800011",
   "metadata": {},
   "outputs": [],
   "source": []
  },
  {
   "cell_type": "code",
   "execution_count": 42,
   "id": "80fbb74f",
   "metadata": {},
   "outputs": [
    {
     "data": {
      "text/plain": [
       "['/Users/hboi/Desktop/cal/2cdom_250ppb_b',\n",
       " '/Users/hboi/Desktop/cal/2cdom_20ppb_c',\n",
       " '/Users/hboi/Desktop/cal/2cdom_350ppb_a',\n",
       " '/Users/hboi/Desktop/cal/2cdom_20ppb_b',\n",
       " '/Users/hboi/Desktop/cal/2cdom_50ppb_b',\n",
       " '/Users/hboi/Desktop/cal/2cdom_100ppb_a',\n",
       " '/Users/hboi/Desktop/cal/2cdom_250ppb_a',\n",
       " '/Users/hboi/Desktop/cal/2cdom_350ppb_b',\n",
       " '/Users/hboi/Desktop/cal/2cdom_50ppb_a',\n",
       " '/Users/hboi/Desktop/cal/2cdom_100ppb_b']"
      ]
     },
     "execution_count": 42,
     "metadata": {},
     "output_type": "execute_result"
    }
   ],
   "source": [
    "files = glob.glob('/Users/hboi/Desktop/cal/2*')\n",
    "files"
   ]
  },
  {
   "cell_type": "code",
   "execution_count": 63,
   "id": "b182edd1",
   "metadata": {},
   "outputs": [
    {
     "name": "stdout",
     "output_type": "stream",
     "text": [
      "/Users/hboi/Desktop/cal/2cdom_250ppb_b 250ppb_b\n",
      "/Users/hboi/Desktop/cal/2cdom_50ppb_b 50ppb_b\n",
      "/Users/hboi/Desktop/cal/2cdom_350ppb_b 350ppb_b\n",
      "/Users/hboi/Desktop/cal/2cdom_100ppb_b 100ppb_b\n"
     ]
    }
   ],
   "source": [
    "files = [\n",
    "    '/Users/hboi/Desktop/cal/2cdom_250ppb_b',\n",
    "#  '/Users/hboi/Desktop/cal/2cdom_20ppb_c',\n",
    "#  '/Users/hboi/Desktop/cal/2cdom_350ppb_a',\n",
    "#  '/Users/hboi/Desktop/cal/2cdom_20ppb_b',\n",
    " '/Users/hboi/Desktop/cal/2cdom_50ppb_b',\n",
    "#  '/Users/hboi/Desktop/cal/2cdom_100ppb_a',\n",
    "#  '/Users/hboi/Desktop/cal/2cdom_250ppb_a',\n",
    " '/Users/hboi/Desktop/cal/2cdom_350ppb_b',\n",
    "#  '/Users/hboi/Desktop/cal/2cdom_50ppb_a',\n",
    " '/Users/hboi/Desktop/cal/2cdom_100ppb_b'\n",
    "]\n",
    "frames = {}\n",
    "\n",
    "for f in files:\n",
    "    print(f, f[30:])\n",
    "    df = pd.read_csv(f, sep='\\t', header=None)\n",
    "    frames[f[30:]]= df[7]"
   ]
  },
  {
   "cell_type": "code",
   "execution_count": 66,
   "id": "e6e12cc0",
   "metadata": {},
   "outputs": [
    {
     "data": {
      "text/plain": [
       "dict_keys(['250ppb_b', '50ppb_b', '350ppb_b', '100ppb_b'])"
      ]
     },
     "execution_count": 66,
     "metadata": {},
     "output_type": "execute_result"
    }
   ],
   "source": [
    "frames.keys()"
   ]
  },
  {
   "cell_type": "code",
   "execution_count": 70,
   "id": "d560dbd7",
   "metadata": {},
   "outputs": [
    {
     "name": "stdout",
     "output_type": "stream",
     "text": [
      "250ppb_b 250\n",
      "50ppb_b 50\n",
      "350ppb_b 350\n",
      "100ppb_b 100\n"
     ]
    },
    {
     "data": {
      "image/png": "[encoded data removed]",
      "text/plain": [
       "<Figure size 720x720 with 1 Axes>"
      ]
     },
     "metadata": {
      "needs_background": "light"
     },
     "output_type": "display_data"
    }
   ],
   "source": [
    "vc = [250, 50, 350, 100]\n",
    "\n",
    "fig, ax = plt.subplots(figsize=(10,10))\n",
    "for var,cal in zip(frames, vc):\n",
    "    print(var, cal)\n",
    "    ax.plot(frames[var], cal*np.ones(len(frames[var])), 'o')"
   ]
  },
  {
   "cell_type": "code",
   "execution_count": null,
   "id": "99fa22b0",
   "metadata": {},
   "outputs": [],
   "source": []
  }
 ],
 "metadata": {
  "kernelspec": {
   "display_name": "Python 3",
   "language": "python",
   "name": "python3"
  },
  "language_info": {
   "codemirror_mode": {
    "name": "ipython",
    "version": 3
   },
   "file_extension": ".py",
   "mimetype": "text/x-python",
   "name": "python",
   "nbconvert_exporter": "python",
   "pygments_lexer": "ipython3",
   "version": "3.7.10"
  }
 },
 "nbformat": 4,
 "nbformat_minor": 5
}
