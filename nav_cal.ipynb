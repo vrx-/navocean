{
 "cells": [
  {
   "cell_type": "code",
   "execution_count": 1,
   "id": "dc6a5af6",
   "metadata": {},
   "outputs": [],
   "source": [
    "import pandas as pd\n",
    "import matplotlib.pyplot as plt\n",
    "import seaborn as sns\n",
    "from sklearn import linear_model\n",
    "from datetime import datetime\n",
    "\n",
    "import pytz\n",
    "eastern = pytz.timezone('US/Eastern')\n",
    "\n",
    "import sailboat as sb # local file sailboat.py\n",
    "# this is to be able to edit the sailboat.py file and no need to refresh\n",
    "%load_ext autoreload \n",
    "%autoreload 2"
   ]
  },
  {
   "cell_type": "code",
   "execution_count": 2,
   "id": "03e97cd5",
   "metadata": {},
   "outputs": [],
   "source": [
    "cal_nav = pd.ExcelFile('/Users/hboi/Desktop/nav_cal.xlsx')"
   ]
  },
  {
   "cell_type": "code",
   "execution_count": 4,
   "id": "aa4a3bb7",
   "metadata": {},
   "outputs": [
    {
     "data": {
      "text/html": [
       "<div>\n",
       "<style scoped>\n",
       "    .dataframe tbody tr th:only-of-type {\n",
       "        vertical-align: middle;\n",
       "    }\n",
       "\n",
       "    .dataframe tbody tr th {\n",
       "        vertical-align: top;\n",
       "    }\n",
       "\n",
       "    .dataframe thead th {\n",
       "        text-align: right;\n",
       "    }\n",
       "</style>\n",
       "<table border=\"1\" class=\"dataframe\">\n",
       "  <thead>\n",
       "    <tr style=\"text-align: right;\">\n",
       "      <th></th>\n",
       "      <th>cdom</th>\n",
       "      <th>cdom ppb</th>\n",
       "    </tr>\n",
       "  </thead>\n",
       "  <tbody>\n",
       "    <tr>\n",
       "      <th>0</th>\n",
       "      <td>469.44</td>\n",
       "      <td>20</td>\n",
       "    </tr>\n",
       "    <tr>\n",
       "      <th>1</th>\n",
       "      <td>447.76</td>\n",
       "      <td>20</td>\n",
       "    </tr>\n",
       "    <tr>\n",
       "      <th>2</th>\n",
       "      <td>448.35</td>\n",
       "      <td>20</td>\n",
       "    </tr>\n",
       "    <tr>\n",
       "      <th>3</th>\n",
       "      <td>458.99</td>\n",
       "      <td>20</td>\n",
       "    </tr>\n",
       "    <tr>\n",
       "      <th>4</th>\n",
       "      <td>453.82</td>\n",
       "      <td>20</td>\n",
       "    </tr>\n",
       "    <tr>\n",
       "      <th>...</th>\n",
       "      <td>...</td>\n",
       "      <td>...</td>\n",
       "    </tr>\n",
       "    <tr>\n",
       "      <th>148</th>\n",
       "      <td>75.85</td>\n",
       "      <td>0</td>\n",
       "    </tr>\n",
       "    <tr>\n",
       "      <th>149</th>\n",
       "      <td>80.72</td>\n",
       "      <td>0</td>\n",
       "    </tr>\n",
       "    <tr>\n",
       "      <th>150</th>\n",
       "      <td>71.21</td>\n",
       "      <td>0</td>\n",
       "    </tr>\n",
       "    <tr>\n",
       "      <th>151</th>\n",
       "      <td>78.46</td>\n",
       "      <td>0</td>\n",
       "    </tr>\n",
       "    <tr>\n",
       "      <th>152</th>\n",
       "      <td>51.75</td>\n",
       "      <td>0</td>\n",
       "    </tr>\n",
       "  </tbody>\n",
       "</table>\n",
       "<p>153 rows × 2 columns</p>\n",
       "</div>"
      ],
      "text/plain": [
       "       cdom  cdom ppb\n",
       "0    469.44        20\n",
       "1    447.76        20\n",
       "2    448.35        20\n",
       "3    458.99        20\n",
       "4    453.82        20\n",
       "..      ...       ...\n",
       "148   75.85         0\n",
       "149   80.72         0\n",
       "150   71.21         0\n",
       "151   78.46         0\n",
       "152   51.75         0\n",
       "\n",
       "[153 rows x 2 columns]"
      ]
     },
     "execution_count": 4,
     "metadata": {},
     "output_type": "execute_result"
    }
   ],
   "source": [
    "cdom_cal = cal_nav.parse(0)\n",
    "cdom_cal"
   ]
  },
  {
   "cell_type": "code",
   "execution_count": 5,
   "id": "3a3e268c",
   "metadata": {},
   "outputs": [
    {
     "data": {
      "text/plain": [
       "<AxesSubplot:xlabel='cdom', ylabel='cdom ppb'>"
      ]
     },
     "execution_count": 5,
     "metadata": {},
     "output_type": "execute_result"
    },
    {
     "data": {
      "image/png": "[encoded data removed]",
      "text/plain": [
       "<Figure size 432x288 with 1 Axes>"
      ]
     },
     "metadata": {
      "needs_background": "light"
     },
     "output_type": "display_data"
    }
   ],
   "source": [
    "cdom_cal.plot(x='cdom', y='cdom ppb', kind='scatter')"
   ]
  },
  {
   "cell_type": "code",
   "execution_count": 9,
   "id": "16ca7f06",
   "metadata": {},
   "outputs": [
    {
     "data": {
      "text/plain": [
       "LinearRegression(copy_X=True, fit_intercept=True, n_jobs=None, normalize=False)"
      ]
     },
     "execution_count": 9,
     "metadata": {},
     "output_type": "execute_result"
    }
   ],
   "source": [
    "regr = linear_model.LinearRegression()\n",
    "regr.fit(cdom_cal['cdom'].values.reshape(-1, 1), cdom_cal['cdom ppb'].values.reshape(-1, 1))\n",
    "regr"
   ]
  },
  {
   "cell_type": "code",
   "execution_count": 36,
   "id": "5da47773",
   "metadata": {},
   "outputs": [
    {
     "name": "stdout",
     "output_type": "stream",
     "text": [
      "[0.06339736] [-0.27441967]\n"
     ]
    },
    {
     "data": {
      "image/png": "[encoded data removed]",
      "text/plain": [
       "<Figure size 432x288 with 1 Axes>"
      ]
     },
     "metadata": {
      "needs_background": "light"
     },
     "output_type": "display_data"
    }
   ],
   "source": [
    "Y_pred = regr.predict(cdom_cal['cdom'].values.reshape(-1, 1))\n",
    "cdom_cal.plot(x='cdom', y='cdom ppb', kind='scatter')\n",
    "\n",
    "plt.plot(cdom_cal['cdom'].values.reshape(-1, 1), Y_pred, color='red')\n",
    "print(regr.coef_[0], regr.intercept_)"
   ]
  },
  {
   "cell_type": "code",
   "execution_count": 62,
   "id": "c6b9e4e2",
   "metadata": {},
   "outputs": [
    {
     "data": {
      "text/plain": [
       "<AxesSubplot:xlabel='cdom', ylabel='cdom ppb'>"
      ]
     },
     "execution_count": 62,
     "metadata": {},
     "output_type": "execute_result"
    },
    {
     "data": {
      "image/png": "[encoded data removed]",
      "text/plain": [
       "<Figure size 432x288 with 1 Axes>"
      ]
     },
     "metadata": {
      "needs_background": "light"
     },
     "output_type": "display_data"
    }
   ],
   "source": [
    "flu_cal = cal_nav.parse(1)\n",
    "flu_cal.plot(x='cdom', y='cdom ppb', kind='scatter')"
   ]
  },
  {
   "cell_type": "code",
   "execution_count": 64,
   "id": "22b092c0",
   "metadata": {},
   "outputs": [
    {
     "data": {
      "text/plain": [
       "LinearRegression(copy_X=True, fit_intercept=True, n_jobs=None, normalize=False)"
      ]
     },
     "execution_count": 64,
     "metadata": {},
     "output_type": "execute_result"
    }
   ],
   "source": [
    "regr2 = linear_model.LinearRegression()\n",
    "regr2.fit(flu_cal['cdom'].values.reshape(-1, 1), flu_cal['cdom ppb'].values.reshape(-1, 1))\n",
    "regr2"
   ]
  },
  {
   "cell_type": "code",
   "execution_count": 65,
   "id": "aa92c631",
   "metadata": {},
   "outputs": [
    {
     "name": "stdout",
     "output_type": "stream",
     "text": [
      "[0.2615415] [-33.60887178]\n"
     ]
    },
    {
     "data": {
      "image/png": "[encoded data removed]",
      "text/plain": [
       "<Figure size 432x288 with 1 Axes>"
      ]
     },
     "metadata": {
      "needs_background": "light"
     },
     "output_type": "display_data"
    }
   ],
   "source": [
    "Y_pred2 = regr2.predict(flu_cal['cdom'].values.reshape(-1, 1))\n",
    "flu_cal.plot(x='cdom', y='cdom ppb', kind='scatter')\n",
    "\n",
    "plt.plot(flu_cal['cdom'].values.reshape(-1, 1), Y_pred2, color='red')\n",
    "print(regr2.coef_[0], regr2.intercept_)"
   ]
  },
  {
   "cell_type": "code",
   "execution_count": 25,
   "id": "86bd6897",
   "metadata": {},
   "outputs": [
    {
     "name": "stdout",
     "output_type": "stream",
     "text": [
      "Data variables are: ['GPSTimeStamp', 'CI [Time UTC]']\n"
     ]
    }
   ],
   "source": [
    "url, dates = sb.gen_url(telemetry='min', CI='all',\n",
    "                        BB3=None, CT='min', O2=None,\n",
    "                       date_interval=('2021-04-29', '2021-04-30'),)\n",
    "df = sb.get_data(url, dates)"
   ]
  },
  {
   "cell_type": "code",
   "execution_count": 26,
   "id": "91cdb6f6",
   "metadata": {},
   "outputs": [],
   "source": [
    "df.set_index('local time', inplace=True)"
   ]
  },
  {
   "cell_type": "code",
   "execution_count": 42,
   "id": "cdb28385",
   "metadata": {},
   "outputs": [
    {
     "data": {
      "text/plain": [
       "<AxesSubplot:xlabel='local time'>"
      ]
     },
     "execution_count": 42,
     "metadata": {},
     "output_type": "execute_result"
    },
    {
     "data": {
      "image/png": "[encoded data removed]",
      "text/plain": [
       "<Figure size 432x288 with 1 Axes>"
      ]
     },
     "metadata": {
      "needs_background": "light"
     },
     "output_type": "display_data"
    }
   ],
   "source": [
    "(df['CDOM [counts]']*regr.coef_[0] + regr.intercept_).plot()\n",
    "(df['CDOM [counts]']*.0791 -10.203).plot()\n",
    "((df['CDOM [counts]'] - 71.46)/13.239).plot()\n",
    "flu['cdom']"
   ]
  },
  {
   "cell_type": "code",
   "execution_count": 70,
   "id": "353941f6",
   "metadata": {},
   "outputs": [],
   "source": [
    "flu = pd.read_csv('/Users/hboi/Desktop/archive_23_ASCII.059', sep='\\t', parse_dates={'Datetime': ['date', 'time']})\n",
    "flu['local time'] = flu['Datetime'].dt.tz_localize('utc').dt.tz_convert(eastern)"
   ]
  },
  {
   "cell_type": "code",
   "execution_count": 71,
   "id": "7942d265",
   "metadata": {},
   "outputs": [],
   "source": [
    "flu.set_index('local time', inplace=True)"
   ]
  },
  {
   "cell_type": "code",
   "execution_count": 72,
   "id": "a78420d0",
   "metadata": {},
   "outputs": [
    {
     "data": {
      "text/plain": [
       "<AxesSubplot:xlabel='local time'>"
      ]
     },
     "execution_count": 72,
     "metadata": {},
     "output_type": "execute_result"
    },
    {
     "data": {
      "image/png": "[encoded data removed]",
      "text/plain": [
       "<Figure size 432x288 with 1 Axes>"
      ]
     },
     "metadata": {
      "needs_background": "light"
     },
     "output_type": "display_data"
    }
   ],
   "source": [
    "(flu['cdom']*regr2.coef_[0] + regr2.intercept_).plot()\n"
   ]
  },
  {
   "cell_type": "code",
   "execution_count": 88,
   "id": "4b5b79cb",
   "metadata": {},
   "outputs": [
    {
     "data": {
      "text/plain": [
       "<AxesSubplot:xlabel='local time'>"
      ]
     },
     "execution_count": 88,
     "metadata": {},
     "output_type": "execute_result"
    },
    {
     "data": {
      "image/png": "[encoded data removed]",
      "text/plain": [
       "<Figure size 432x288 with 1 Axes>"
      ]
     },
     "metadata": {
      "needs_background": "light"
     },
     "output_type": "display_data"
    }
   ],
   "source": [
    "cdom = flu['cdom']*regr2.coef_[0] + regr2.intercept_\n",
    "fact = flu['cdom']*0.0753\n",
    "cdom = cdom.where(cdom>0)\n",
    "cdom.plot()\n",
    "fact.plot()"
   ]
  },
  {
   "cell_type": "code",
   "execution_count": 83,
   "id": "27cbcd0d",
   "metadata": {},
   "outputs": [
    {
     "data": {
      "text/plain": [
       "<AxesSubplot:xlabel='local time'>"
      ]
     },
     "execution_count": 83,
     "metadata": {},
     "output_type": "execute_result"
    },
    {
     "data": {
      "image/png": "[encoded data removed]",
      "text/plain": [
       "<Figure size 432x288 with 1 Axes>"
      ]
     },
     "metadata": {
      "needs_background": "light"
     },
     "output_type": "display_data"
    }
   ],
   "source": [
    "cdom[:-15].plot()"
   ]
  },
  {
   "cell_type": "code",
   "execution_count": 87,
   "id": "c8822e1d",
   "metadata": {},
   "outputs": [
    {
     "data": {
      "text/plain": [
       "(0.0, 400.0)"
      ]
     },
     "execution_count": 87,
     "metadata": {},
     "output_type": "execute_result"
    },
    {
     "data": {
      "image/png": "[encoded data removed]",
      "text/plain": [
       "<Figure size 432x288 with 1 Axes>"
      ]
     },
     "metadata": {
      "needs_background": "light"
     },
     "output_type": "display_data"
    }
   ],
   "source": [
    "(df['CDOM [counts]']*regr.coef_[0] + regr.intercept_).plot()\n",
    "cdom[:-15].plot(marker='o')\n",
    "plt.ylim(0, 400)"
   ]
  },
  {
   "cell_type": "code",
   "execution_count": null,
   "id": "e1876088",
   "metadata": {},
   "outputs": [],
   "source": [
    "\n",
    "\n",
    "day = mdf[(mdf['local time'].dt.day==29)]\n",
    "fig, axes = plt.subplots(6, figsize=(10,12), sharex=True)\n",
    "\n",
    "vnames = ['Temperature [deg C]', 'Conductivity [mS cm-1]', 'O2 Concentration [micromolar]', \n",
    "       'Chl. a [ppb]', 'CDOM [QSU]', 'Phycocyanin [ppb]']\n",
    "vvals = [26.08552397, 0.033017043*10, 7.669923357/ 1.42903*44.66,\n",
    "         8.261545995, 33.25230548, 50.03059286, 1242.279958]\n",
    "vmax = [27, 1., 100, 100, 100, 100]\n",
    "for i in range(6):\n",
    "    day.plot(x='local time', y=vnames[i], ax=axes[i])\n",
    "#     axes[i].set_ylim(0, vmax[i])\n",
    "    axes[i].plot(datetime(2021,4,29,9,10, tzinfo=eastern), vvals[i], 'ko')\n",
    "axes[1].set_ylim(0,1)\n",
    "axes[3].plot(datetime(2021,4,29,9,10, tzinfo=eastern), 120.517088607595, 'ro')"
   ]
  },
  {
   "cell_type": "code",
   "execution_count": 105,
   "id": "fe2b76ab",
   "metadata": {},
   "outputs": [
    {
     "name": "stdout",
     "output_type": "stream",
     "text": [
      "Data variables are: ['GPSTimeStamp', 'CI [Time UTC]']\n"
     ]
    }
   ],
   "source": [
    "url, dates = sb.gen_url(telemetry='min', CI='all',\n",
    "                        BB3=None, CT=None, O2=None,\n",
    "                       date_interval=('2021-04-01', '2021-04-30'),\n",
    "                       limit=20000)\n",
    "df = sb.get_data(url, dates)"
   ]
  },
  {
   "cell_type": "code",
   "execution_count": 101,
   "id": "64e69ec0",
   "metadata": {},
   "outputs": [],
   "source": [
    "df['cdom'] = df['CDOM [counts]']*regr.coef_[0] + regr.intercept_"
   ]
  },
  {
   "cell_type": "code",
   "execution_count": 102,
   "id": "b9cd684d",
   "metadata": {},
   "outputs": [
    {
     "data": {
      "text/plain": [
       "<AxesSubplot:xlabel='local time'>"
      ]
     },
     "execution_count": 102,
     "metadata": {},
     "output_type": "execute_result"
    },
    {
     "data": {
      "image/png": "[encoded data removed]",
      "text/plain": [
       "<Figure size 1000x400 with 1 Axes>"
      ]
     },
     "metadata": {
      "needs_background": "light"
     },
     "output_type": "display_data"
    }
   ],
   "source": [
    "fig,ax = plt.subplots(figsize=(10, 4), dpi=100)\n",
    "df.plot(x='local time', y='cdom', ax=ax)\n"
   ]
  },
  {
   "cell_type": "code",
   "execution_count": 103,
   "id": "bc03d146",
   "metadata": {},
   "outputs": [
    {
     "data": {
      "text/plain": [
       "'http://portal.navocean.com/services/nav.php?req=data&id=VELA&columns=GPSTimeStamp%2CLon%2CLat%2CTrack%2CHeading%2CCI+%5BTime+UTC%5D%2CChl.+a+%5Bcounts%5D%2CCDOM+%5Bcounts%5D%2CPhycocyanin+%5Bcounts%5D%2CCDOM+%5BQSU%5D%2CChl.+a+%5Bppb%5D%2CPhycocyanin+%5Bppb%5D&format=csv&output=file&start=2021-04-01+04%3A00%3A00&end=2021-04-30+04%3A00%3A00&token=5e5c4d86-3fd9-11eb-904e-06ad0ec96835'"
      ]
     },
     "execution_count": 103,
     "metadata": {},
     "output_type": "execute_result"
    }
   ],
   "source": [
    "url"
   ]
  },
  {
   "cell_type": "code",
   "execution_count": 106,
   "id": "2e64e6c3",
   "metadata": {},
   "outputs": [
    {
     "data": {
      "text/html": [
       "<div>\n",
       "<style scoped>\n",
       "    .dataframe tbody tr th:only-of-type {\n",
       "        vertical-align: middle;\n",
       "    }\n",
       "\n",
       "    .dataframe tbody tr th {\n",
       "        vertical-align: top;\n",
       "    }\n",
       "\n",
       "    .dataframe thead th {\n",
       "        text-align: right;\n",
       "    }\n",
       "</style>\n",
       "<table border=\"1\" class=\"dataframe\">\n",
       "  <thead>\n",
       "    <tr style=\"text-align: right;\">\n",
       "      <th></th>\n",
       "      <th>GPSTimeStamp</th>\n",
       "      <th>Lon</th>\n",
       "      <th>Lat</th>\n",
       "      <th>Track</th>\n",
       "      <th>Heading</th>\n",
       "      <th>CI [Time UTC]</th>\n",
       "      <th>Chl. a [counts]</th>\n",
       "      <th>CDOM [counts]</th>\n",
       "      <th>Phycocyanin [counts]</th>\n",
       "      <th>CDOM [QSU]</th>\n",
       "      <th>Chl. a [ppb]</th>\n",
       "      <th>Phycocyanin [ppb]</th>\n",
       "      <th>local time</th>\n",
       "    </tr>\n",
       "    <tr>\n",
       "      <th>Id</th>\n",
       "      <th></th>\n",
       "      <th></th>\n",
       "      <th></th>\n",
       "      <th></th>\n",
       "      <th></th>\n",
       "      <th></th>\n",
       "      <th></th>\n",
       "      <th></th>\n",
       "      <th></th>\n",
       "      <th></th>\n",
       "      <th></th>\n",
       "      <th></th>\n",
       "      <th></th>\n",
       "    </tr>\n",
       "  </thead>\n",
       "  <tbody>\n",
       "    <tr>\n",
       "      <th>320918</th>\n",
       "      <td>2021-04-30 03:01:13</td>\n",
       "      <td>-80.796425</td>\n",
       "      <td>27.222748</td>\n",
       "      <td>3.0</td>\n",
       "      <td>97.2</td>\n",
       "      <td>2021-04-30 03:01:11</td>\n",
       "      <td>2865.67</td>\n",
       "      <td>5836.02</td>\n",
       "      <td>524.32</td>\n",
       "      <td>NaN</td>\n",
       "      <td>144.06</td>\n",
       "      <td>21.37</td>\n",
       "      <td>2021-04-29 23:01:13-04:00</td>\n",
       "    </tr>\n",
       "    <tr>\n",
       "      <th>320527</th>\n",
       "      <td>2021-04-30 02:00:51</td>\n",
       "      <td>-80.796432</td>\n",
       "      <td>27.222757</td>\n",
       "      <td>0.0</td>\n",
       "      <td>95.5</td>\n",
       "      <td>2021-04-30 02:00:30</td>\n",
       "      <td>3211.47</td>\n",
       "      <td>5757.90</td>\n",
       "      <td>509.28</td>\n",
       "      <td>NaN</td>\n",
       "      <td>163.43</td>\n",
       "      <td>20.64</td>\n",
       "      <td>2021-04-29 22:00:51-04:00</td>\n",
       "    </tr>\n",
       "    <tr>\n",
       "      <th>320524</th>\n",
       "      <td>2021-04-30 02:00:31</td>\n",
       "      <td>-80.796425</td>\n",
       "      <td>27.222759</td>\n",
       "      <td>0.0</td>\n",
       "      <td>95.4</td>\n",
       "      <td>2021-04-30 02:00:30</td>\n",
       "      <td>3211.47</td>\n",
       "      <td>5757.90</td>\n",
       "      <td>509.28</td>\n",
       "      <td>NaN</td>\n",
       "      <td>163.43</td>\n",
       "      <td>20.64</td>\n",
       "      <td>2021-04-29 22:00:31-04:00</td>\n",
       "    </tr>\n",
       "    <tr>\n",
       "      <th>320521</th>\n",
       "      <td>2021-04-30 02:00:11</td>\n",
       "      <td>-80.796425</td>\n",
       "      <td>27.222748</td>\n",
       "      <td>0.0</td>\n",
       "      <td>95.9</td>\n",
       "      <td>2021-04-30 01:59:30</td>\n",
       "      <td>3294.58</td>\n",
       "      <td>5718.15</td>\n",
       "      <td>463.68</td>\n",
       "      <td>NaN</td>\n",
       "      <td>168.09</td>\n",
       "      <td>18.43</td>\n",
       "      <td>2021-04-29 22:00:11-04:00</td>\n",
       "    </tr>\n",
       "    <tr>\n",
       "      <th>320517</th>\n",
       "      <td>2021-04-30 01:59:47</td>\n",
       "      <td>-80.796425</td>\n",
       "      <td>27.222740</td>\n",
       "      <td>0.0</td>\n",
       "      <td>96.2</td>\n",
       "      <td>2021-04-30 01:59:30</td>\n",
       "      <td>3294.58</td>\n",
       "      <td>5718.15</td>\n",
       "      <td>463.68</td>\n",
       "      <td>NaN</td>\n",
       "      <td>168.09</td>\n",
       "      <td>18.43</td>\n",
       "      <td>2021-04-29 21:59:47-04:00</td>\n",
       "    </tr>\n",
       "    <tr>\n",
       "      <th>...</th>\n",
       "      <td>...</td>\n",
       "      <td>...</td>\n",
       "      <td>...</td>\n",
       "      <td>...</td>\n",
       "      <td>...</td>\n",
       "      <td>...</td>\n",
       "      <td>...</td>\n",
       "      <td>...</td>\n",
       "      <td>...</td>\n",
       "      <td>...</td>\n",
       "      <td>...</td>\n",
       "      <td>...</td>\n",
       "      <td>...</td>\n",
       "    </tr>\n",
       "    <tr>\n",
       "      <th>309348</th>\n",
       "      <td>2021-04-25 22:48:22</td>\n",
       "      <td>-80.670792</td>\n",
       "      <td>26.859690</td>\n",
       "      <td>120.0</td>\n",
       "      <td>123.1</td>\n",
       "      <td>2021-04-25 22:48:01</td>\n",
       "      <td>434.19</td>\n",
       "      <td>1871.90</td>\n",
       "      <td>115.04</td>\n",
       "      <td>NaN</td>\n",
       "      <td>7.82</td>\n",
       "      <td>1.52</td>\n",
       "      <td>2021-04-25 18:48:22-04:00</td>\n",
       "    </tr>\n",
       "    <tr>\n",
       "      <th>309347</th>\n",
       "      <td>2021-04-25 22:48:01</td>\n",
       "      <td>-80.670937</td>\n",
       "      <td>26.859835</td>\n",
       "      <td>145.5</td>\n",
       "      <td>150.9</td>\n",
       "      <td>2021-04-25 22:48:01</td>\n",
       "      <td>434.19</td>\n",
       "      <td>1871.90</td>\n",
       "      <td>115.04</td>\n",
       "      <td>NaN</td>\n",
       "      <td>7.82</td>\n",
       "      <td>1.52</td>\n",
       "      <td>2021-04-25 18:48:01-04:00</td>\n",
       "    </tr>\n",
       "    <tr>\n",
       "      <th>309346</th>\n",
       "      <td>2021-04-25 22:47:41</td>\n",
       "      <td>-80.671089</td>\n",
       "      <td>26.859932</td>\n",
       "      <td>169.2</td>\n",
       "      <td>176.3</td>\n",
       "      <td>2021-04-25 22:47:01</td>\n",
       "      <td>433.70</td>\n",
       "      <td>1875.03</td>\n",
       "      <td>122.76</td>\n",
       "      <td>NaN</td>\n",
       "      <td>7.80</td>\n",
       "      <td>1.89</td>\n",
       "      <td>2021-04-25 18:47:41-04:00</td>\n",
       "    </tr>\n",
       "    <tr>\n",
       "      <th>309345</th>\n",
       "      <td>2021-04-25 22:47:20</td>\n",
       "      <td>-80.671219</td>\n",
       "      <td>26.860062</td>\n",
       "      <td>136.6</td>\n",
       "      <td>132.5</td>\n",
       "      <td>2021-04-25 22:47:01</td>\n",
       "      <td>433.70</td>\n",
       "      <td>1875.03</td>\n",
       "      <td>122.76</td>\n",
       "      <td>NaN</td>\n",
       "      <td>7.80</td>\n",
       "      <td>1.89</td>\n",
       "      <td>2021-04-25 18:47:20-04:00</td>\n",
       "    </tr>\n",
       "    <tr>\n",
       "      <th>309344</th>\n",
       "      <td>2021-04-25 22:46:56</td>\n",
       "      <td>-80.671379</td>\n",
       "      <td>26.860205</td>\n",
       "      <td>139.1</td>\n",
       "      <td>143.8</td>\n",
       "      <td>2021-04-25 22:47:01</td>\n",
       "      <td>433.70</td>\n",
       "      <td>1875.03</td>\n",
       "      <td>122.76</td>\n",
       "      <td>NaN</td>\n",
       "      <td>7.80</td>\n",
       "      <td>1.89</td>\n",
       "      <td>2021-04-25 18:46:56-04:00</td>\n",
       "    </tr>\n",
       "  </tbody>\n",
       "</table>\n",
       "<p>10000 rows × 13 columns</p>\n",
       "</div>"
      ],
      "text/plain": [
       "              GPSTimeStamp        Lon        Lat  Track  Heading  \\\n",
       "Id                                                                 \n",
       "320918 2021-04-30 03:01:13 -80.796425  27.222748    3.0     97.2   \n",
       "320527 2021-04-30 02:00:51 -80.796432  27.222757    0.0     95.5   \n",
       "320524 2021-04-30 02:00:31 -80.796425  27.222759    0.0     95.4   \n",
       "320521 2021-04-30 02:00:11 -80.796425  27.222748    0.0     95.9   \n",
       "320517 2021-04-30 01:59:47 -80.796425  27.222740    0.0     96.2   \n",
       "...                    ...        ...        ...    ...      ...   \n",
       "309348 2021-04-25 22:48:22 -80.670792  26.859690  120.0    123.1   \n",
       "309347 2021-04-25 22:48:01 -80.670937  26.859835  145.5    150.9   \n",
       "309346 2021-04-25 22:47:41 -80.671089  26.859932  169.2    176.3   \n",
       "309345 2021-04-25 22:47:20 -80.671219  26.860062  136.6    132.5   \n",
       "309344 2021-04-25 22:46:56 -80.671379  26.860205  139.1    143.8   \n",
       "\n",
       "             CI [Time UTC]  Chl. a [counts]  CDOM [counts]  \\\n",
       "Id                                                           \n",
       "320918 2021-04-30 03:01:11          2865.67        5836.02   \n",
       "320527 2021-04-30 02:00:30          3211.47        5757.90   \n",
       "320524 2021-04-30 02:00:30          3211.47        5757.90   \n",
       "320521 2021-04-30 01:59:30          3294.58        5718.15   \n",
       "320517 2021-04-30 01:59:30          3294.58        5718.15   \n",
       "...                    ...              ...            ...   \n",
       "309348 2021-04-25 22:48:01           434.19        1871.90   \n",
       "309347 2021-04-25 22:48:01           434.19        1871.90   \n",
       "309346 2021-04-25 22:47:01           433.70        1875.03   \n",
       "309345 2021-04-25 22:47:01           433.70        1875.03   \n",
       "309344 2021-04-25 22:47:01           433.70        1875.03   \n",
       "\n",
       "        Phycocyanin [counts]  CDOM [QSU]  Chl. a [ppb]  Phycocyanin [ppb]  \\\n",
       "Id                                                                          \n",
       "320918                524.32         NaN        144.06              21.37   \n",
       "320527                509.28         NaN        163.43              20.64   \n",
       "320524                509.28         NaN        163.43              20.64   \n",
       "320521                463.68         NaN        168.09              18.43   \n",
       "320517                463.68         NaN        168.09              18.43   \n",
       "...                      ...         ...           ...                ...   \n",
       "309348                115.04         NaN          7.82               1.52   \n",
       "309347                115.04         NaN          7.82               1.52   \n",
       "309346                122.76         NaN          7.80               1.89   \n",
       "309345                122.76         NaN          7.80               1.89   \n",
       "309344                122.76         NaN          7.80               1.89   \n",
       "\n",
       "                      local time  \n",
       "Id                                \n",
       "320918 2021-04-29 23:01:13-04:00  \n",
       "320527 2021-04-29 22:00:51-04:00  \n",
       "320524 2021-04-29 22:00:31-04:00  \n",
       "320521 2021-04-29 22:00:11-04:00  \n",
       "320517 2021-04-29 21:59:47-04:00  \n",
       "...                          ...  \n",
       "309348 2021-04-25 18:48:22-04:00  \n",
       "309347 2021-04-25 18:48:01-04:00  \n",
       "309346 2021-04-25 18:47:41-04:00  \n",
       "309345 2021-04-25 18:47:20-04:00  \n",
       "309344 2021-04-25 18:46:56-04:00  \n",
       "\n",
       "[10000 rows x 13 columns]"
      ]
     },
     "execution_count": 106,
     "metadata": {},
     "output_type": "execute_result"
    }
   ],
   "source": [
    "df"
   ]
  },
  {
   "cell_type": "code",
   "execution_count": null,
   "id": "9df11f01",
   "metadata": {},
   "outputs": [],
   "source": []
  }
 ],
 "metadata": {
  "kernelspec": {
   "display_name": "Python 3",
   "language": "python",
   "name": "python3"
  },
  "language_info": {
   "codemirror_mode": {
    "name": "ipython",
    "version": 3
   },
   "file_extension": ".py",
   "mimetype": "text/x-python",
   "name": "python",
   "nbconvert_exporter": "python",
   "pygments_lexer": "ipython3",
   "version": "3.7.10"
  }
 },
 "nbformat": 4,
 "nbformat_minor": 5
}
